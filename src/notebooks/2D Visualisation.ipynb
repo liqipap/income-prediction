{
 "cells": [
  {
   "cell_type": "code",
   "execution_count": 3,
   "metadata": {
    "collapsed": false
   },
   "outputs": [
    {
     "name": "stdout",
     "output_type": "stream",
     "text": [
      "/Users/workspace/income-prediction/src/python\n"
     ]
    }
   ],
   "source": [
    "cd ../python/"
   ]
  },
  {
   "cell_type": "code",
   "execution_count": 4,
   "metadata": {
    "collapsed": true
   },
   "outputs": [],
   "source": [
    "import utils"
   ]
  },
  {
   "cell_type": "code",
   "execution_count": 97,
   "metadata": {
    "collapsed": true
   },
   "outputs": [],
   "source": [
    "from sklearn.manifold import TSNE"
   ]
  },
  {
   "cell_type": "code",
   "execution_count": 34,
   "metadata": {
    "collapsed": true
   },
   "outputs": [],
   "source": [
    "target = utils.read_target('../../local_resources/income_dataset/y_thresh10.p')"
   ]
  },
  {
   "cell_type": "code",
   "execution_count": 35,
   "metadata": {
    "collapsed": false
   },
   "outputs": [
    {
     "data": {
      "text/html": [
       "<div>\n",
       "<style>\n",
       "    .dataframe thead tr:only-child th {\n",
       "        text-align: right;\n",
       "    }\n",
       "\n",
       "    .dataframe thead th {\n",
       "        text-align: left;\n",
       "    }\n",
       "\n",
       "    .dataframe tbody tr th {\n",
       "        vertical-align: top;\n",
       "    }\n",
       "</style>\n",
       "<table border=\"1\" class=\"dataframe\">\n",
       "  <thead>\n",
       "    <tr style=\"text-align: right;\">\n",
       "      <th></th>\n",
       "      <th>fan_idx</th>\n",
       "      <th>mean_income</th>\n",
       "    </tr>\n",
       "    <tr>\n",
       "      <th>fan_id</th>\n",
       "      <th></th>\n",
       "      <th></th>\n",
       "    </tr>\n",
       "  </thead>\n",
       "  <tbody>\n",
       "    <tr>\n",
       "      <th>10571</th>\n",
       "      <td>0</td>\n",
       "      <td>10325</td>\n",
       "    </tr>\n",
       "    <tr>\n",
       "      <th>11758</th>\n",
       "      <td>1</td>\n",
       "      <td>34684</td>\n",
       "    </tr>\n",
       "    <tr>\n",
       "      <th>9269</th>\n",
       "      <td>2</td>\n",
       "      <td>40848</td>\n",
       "    </tr>\n",
       "    <tr>\n",
       "      <th>33493</th>\n",
       "      <td>3</td>\n",
       "      <td>42761</td>\n",
       "    </tr>\n",
       "    <tr>\n",
       "      <th>75533</th>\n",
       "      <td>4</td>\n",
       "      <td>40848</td>\n",
       "    </tr>\n",
       "  </tbody>\n",
       "</table>\n",
       "</div>"
      ],
      "text/plain": [
       "        fan_idx  mean_income\n",
       "fan_id                      \n",
       "10571         0        10325\n",
       "11758         1        34684\n",
       "9269          2        40848\n",
       "33493         3        42761\n",
       "75533         4        40848"
      ]
     },
     "execution_count": 35,
     "metadata": {},
     "output_type": "execute_result"
    }
   ],
   "source": [
    "target.head()"
   ]
  },
  {
   "cell_type": "code",
   "execution_count": 55,
   "metadata": {
    "collapsed": false
   },
   "outputs": [],
   "source": [
    "emd_path = '../../local_results/thresh10_num_10_length_80_dimension_2.emd'"
   ]
  },
  {
   "cell_type": "code",
   "execution_count": 56,
   "metadata": {
    "collapsed": false
   },
   "outputs": [],
   "source": [
    "emd = pd.read_csv(emd_path, header=None, index_col=0, skiprows=1, sep=\",\")"
   ]
  },
  {
   "cell_type": "code",
   "execution_count": 98,
   "metadata": {
    "collapsed": true
   },
   "outputs": [],
   "source": [
    "model = TSNE(n_components=2, random_state=0)"
   ]
  },
  {
   "cell_type": "code",
   "execution_count": 99,
   "metadata": {
    "collapsed": true
   },
   "outputs": [],
   "source": [
    "embedding = model.fit_transform(emd)"
   ]
  },
  {
   "cell_type": "code",
   "execution_count": 100,
   "metadata": {
    "collapsed": false
   },
   "outputs": [
    {
     "data": {
      "text/plain": [
       "(4625, 2)"
      ]
     },
     "execution_count": 100,
     "metadata": {},
     "output_type": "execute_result"
    }
   ],
   "source": [
    "embedding.shape"
   ]
  },
  {
   "cell_type": "code",
   "execution_count": 101,
   "metadata": {
    "collapsed": true
   },
   "outputs": [],
   "source": [
    "df = pd.DataFrame(data=embedding, index=None, columns=['x', 'y'])"
   ]
  },
  {
   "cell_type": "code",
   "execution_count": 102,
   "metadata": {
    "collapsed": false
   },
   "outputs": [
    {
     "data": {
      "text/html": [
       "<div>\n",
       "<style>\n",
       "    .dataframe thead tr:only-child th {\n",
       "        text-align: right;\n",
       "    }\n",
       "\n",
       "    .dataframe thead th {\n",
       "        text-align: left;\n",
       "    }\n",
       "\n",
       "    .dataframe tbody tr th {\n",
       "        vertical-align: top;\n",
       "    }\n",
       "</style>\n",
       "<table border=\"1\" class=\"dataframe\">\n",
       "  <thead>\n",
       "    <tr style=\"text-align: right;\">\n",
       "      <th></th>\n",
       "      <th>x</th>\n",
       "      <th>y</th>\n",
       "    </tr>\n",
       "  </thead>\n",
       "  <tbody>\n",
       "    <tr>\n",
       "      <th>0</th>\n",
       "      <td>-4.676580</td>\n",
       "      <td>4.636655</td>\n",
       "    </tr>\n",
       "    <tr>\n",
       "      <th>1</th>\n",
       "      <td>-4.565182</td>\n",
       "      <td>5.473167</td>\n",
       "    </tr>\n",
       "    <tr>\n",
       "      <th>2</th>\n",
       "      <td>-4.886350</td>\n",
       "      <td>4.574042</td>\n",
       "    </tr>\n",
       "    <tr>\n",
       "      <th>3</th>\n",
       "      <td>-3.954677</td>\n",
       "      <td>4.290175</td>\n",
       "    </tr>\n",
       "    <tr>\n",
       "      <th>4</th>\n",
       "      <td>-3.554307</td>\n",
       "      <td>4.191586</td>\n",
       "    </tr>\n",
       "  </tbody>\n",
       "</table>\n",
       "</div>"
      ],
      "text/plain": [
       "          x         y\n",
       "0 -4.676580  4.636655\n",
       "1 -4.565182  5.473167\n",
       "2 -4.886350  4.574042\n",
       "3 -3.954677  4.290175\n",
       "4 -3.554307  4.191586"
      ]
     },
     "execution_count": 102,
     "metadata": {},
     "output_type": "execute_result"
    }
   ],
   "source": [
    "df.head()"
   ]
  },
  {
   "cell_type": "code",
   "execution_count": 103,
   "metadata": {
    "collapsed": false
   },
   "outputs": [
    {
     "data": {
      "text/plain": [
       "(4625, 2)"
      ]
     },
     "execution_count": 103,
     "metadata": {},
     "output_type": "execute_result"
    }
   ],
   "source": [
    "df.shape"
   ]
  },
  {
   "cell_type": "code",
   "execution_count": 106,
   "metadata": {
    "collapsed": true
   },
   "outputs": [],
   "source": [
    "df['label'] = np.array(target.loc[emd.index].mean_income)"
   ]
  },
  {
   "cell_type": "code",
   "execution_count": 107,
   "metadata": {
    "collapsed": false
   },
   "outputs": [
    {
     "data": {
      "text/html": [
       "<div>\n",
       "<style>\n",
       "    .dataframe thead tr:only-child th {\n",
       "        text-align: right;\n",
       "    }\n",
       "\n",
       "    .dataframe thead th {\n",
       "        text-align: left;\n",
       "    }\n",
       "\n",
       "    .dataframe tbody tr th {\n",
       "        vertical-align: top;\n",
       "    }\n",
       "</style>\n",
       "<table border=\"1\" class=\"dataframe\">\n",
       "  <thead>\n",
       "    <tr style=\"text-align: right;\">\n",
       "      <th></th>\n",
       "      <th>x</th>\n",
       "      <th>y</th>\n",
       "      <th>label</th>\n",
       "    </tr>\n",
       "  </thead>\n",
       "  <tbody>\n",
       "    <tr>\n",
       "      <th>0</th>\n",
       "      <td>-4.676580</td>\n",
       "      <td>4.636655</td>\n",
       "      <td>10325</td>\n",
       "    </tr>\n",
       "    <tr>\n",
       "      <th>1</th>\n",
       "      <td>-4.565182</td>\n",
       "      <td>5.473167</td>\n",
       "      <td>34684</td>\n",
       "    </tr>\n",
       "    <tr>\n",
       "      <th>2</th>\n",
       "      <td>-4.886350</td>\n",
       "      <td>4.574042</td>\n",
       "      <td>40848</td>\n",
       "    </tr>\n",
       "    <tr>\n",
       "      <th>3</th>\n",
       "      <td>-3.954677</td>\n",
       "      <td>4.290175</td>\n",
       "      <td>42761</td>\n",
       "    </tr>\n",
       "    <tr>\n",
       "      <th>4</th>\n",
       "      <td>-3.554307</td>\n",
       "      <td>4.191586</td>\n",
       "      <td>40848</td>\n",
       "    </tr>\n",
       "  </tbody>\n",
       "</table>\n",
       "</div>"
      ],
      "text/plain": [
       "          x         y  label\n",
       "0 -4.676580  4.636655  10325\n",
       "1 -4.565182  5.473167  34684\n",
       "2 -4.886350  4.574042  40848\n",
       "3 -3.954677  4.290175  42761\n",
       "4 -3.554307  4.191586  40848"
      ]
     },
     "execution_count": 107,
     "metadata": {},
     "output_type": "execute_result"
    }
   ],
   "source": [
    "df.head()"
   ]
  },
  {
   "cell_type": "code",
   "execution_count": 57,
   "metadata": {
    "collapsed": false
   },
   "outputs": [
    {
     "data": {
      "text/html": [
       "<div>\n",
       "<style>\n",
       "    .dataframe thead tr:only-child th {\n",
       "        text-align: right;\n",
       "    }\n",
       "\n",
       "    .dataframe thead th {\n",
       "        text-align: left;\n",
       "    }\n",
       "\n",
       "    .dataframe tbody tr th {\n",
       "        vertical-align: top;\n",
       "    }\n",
       "</style>\n",
       "<table border=\"1\" class=\"dataframe\">\n",
       "  <thead>\n",
       "    <tr style=\"text-align: right;\">\n",
       "      <th></th>\n",
       "      <th>1</th>\n",
       "      <th>2</th>\n",
       "    </tr>\n",
       "    <tr>\n",
       "      <th>0</th>\n",
       "      <th></th>\n",
       "      <th></th>\n",
       "    </tr>\n",
       "  </thead>\n",
       "  <tbody>\n",
       "    <tr>\n",
       "      <th>10571</th>\n",
       "      <td>-1.216603</td>\n",
       "      <td>0.285445</td>\n",
       "    </tr>\n",
       "    <tr>\n",
       "      <th>11758</th>\n",
       "      <td>-0.870988</td>\n",
       "      <td>0.708764</td>\n",
       "    </tr>\n",
       "    <tr>\n",
       "      <th>9269</th>\n",
       "      <td>-1.042711</td>\n",
       "      <td>0.453618</td>\n",
       "    </tr>\n",
       "    <tr>\n",
       "      <th>33493</th>\n",
       "      <td>-0.600143</td>\n",
       "      <td>1.055989</td>\n",
       "    </tr>\n",
       "    <tr>\n",
       "      <th>75533</th>\n",
       "      <td>-0.665514</td>\n",
       "      <td>0.985779</td>\n",
       "    </tr>\n",
       "  </tbody>\n",
       "</table>\n",
       "</div>"
      ],
      "text/plain": [
       "              1         2\n",
       "0                        \n",
       "10571 -1.216603  0.285445\n",
       "11758 -0.870988  0.708764\n",
       "9269  -1.042711  0.453618\n",
       "33493 -0.600143  1.055989\n",
       "75533 -0.665514  0.985779"
      ]
     },
     "execution_count": 57,
     "metadata": {},
     "output_type": "execute_result"
    }
   ],
   "source": [
    "emd.head()"
   ]
  },
  {
   "cell_type": "code",
   "execution_count": 58,
   "metadata": {
    "collapsed": false
   },
   "outputs": [
    {
     "data": {
      "text/plain": [
       "<matplotlib.axes._subplots.AxesSubplot at 0x10ae51690>"
      ]
     },
     "execution_count": 58,
     "metadata": {},
     "output_type": "execute_result"
    },
    {
     "data": {
      "image/png": "[encoded data removed]",
      "text/plain": [
       "<matplotlib.figure.Figure at 0x10ae42750>"
      ]
     },
     "metadata": {},
     "output_type": "display_data"
    }
   ],
   "source": [
    "emd.plot.scatter(1,2)"
   ]
  },
  {
   "cell_type": "code",
   "execution_count": 60,
   "metadata": {
    "collapsed": true
   },
   "outputs": [],
   "source": [
    "all_data = emd.merge(target, left_index=True, right_index=True)"
   ]
  },
  {
   "cell_type": "code",
   "execution_count": 61,
   "metadata": {
    "collapsed": false
   },
   "outputs": [
    {
     "data": {
      "text/html": [
       "<div>\n",
       "<style>\n",
       "    .dataframe thead tr:only-child th {\n",
       "        text-align: right;\n",
       "    }\n",
       "\n",
       "    .dataframe thead th {\n",
       "        text-align: left;\n",
       "    }\n",
       "\n",
       "    .dataframe tbody tr th {\n",
       "        vertical-align: top;\n",
       "    }\n",
       "</style>\n",
       "<table border=\"1\" class=\"dataframe\">\n",
       "  <thead>\n",
       "    <tr style=\"text-align: right;\">\n",
       "      <th></th>\n",
       "      <th>1</th>\n",
       "      <th>2</th>\n",
       "      <th>fan_idx</th>\n",
       "      <th>mean_income</th>\n",
       "    </tr>\n",
       "  </thead>\n",
       "  <tbody>\n",
       "    <tr>\n",
       "      <th>10571</th>\n",
       "      <td>-1.216603</td>\n",
       "      <td>0.285445</td>\n",
       "      <td>0</td>\n",
       "      <td>10325</td>\n",
       "    </tr>\n",
       "    <tr>\n",
       "      <th>11758</th>\n",
       "      <td>-0.870988</td>\n",
       "      <td>0.708764</td>\n",
       "      <td>1</td>\n",
       "      <td>34684</td>\n",
       "    </tr>\n",
       "    <tr>\n",
       "      <th>9269</th>\n",
       "      <td>-1.042711</td>\n",
       "      <td>0.453618</td>\n",
       "      <td>2</td>\n",
       "      <td>40848</td>\n",
       "    </tr>\n",
       "    <tr>\n",
       "      <th>33493</th>\n",
       "      <td>-0.600143</td>\n",
       "      <td>1.055989</td>\n",
       "      <td>3</td>\n",
       "      <td>42761</td>\n",
       "    </tr>\n",
       "    <tr>\n",
       "      <th>75533</th>\n",
       "      <td>-0.665514</td>\n",
       "      <td>0.985779</td>\n",
       "      <td>4</td>\n",
       "      <td>40848</td>\n",
       "    </tr>\n",
       "  </tbody>\n",
       "</table>\n",
       "</div>"
      ],
      "text/plain": [
       "              1         2  fan_idx  mean_income\n",
       "10571 -1.216603  0.285445        0        10325\n",
       "11758 -0.870988  0.708764        1        34684\n",
       "9269  -1.042711  0.453618        2        40848\n",
       "33493 -0.600143  1.055989        3        42761\n",
       "75533 -0.665514  0.985779        4        40848"
      ]
     },
     "execution_count": 61,
     "metadata": {},
     "output_type": "execute_result"
    }
   ],
   "source": [
    "all_data.head()"
   ]
  },
  {
   "cell_type": "code",
   "execution_count": 71,
   "metadata": {
    "collapsed": true
   },
   "outputs": [],
   "source": [
    "dfs = all_data.sample(frac=0.1)"
   ]
  },
  {
   "cell_type": "code",
   "execution_count": 72,
   "metadata": {
    "collapsed": false
   },
   "outputs": [
    {
     "data": {
      "text/plain": [
       "<matplotlib.axes._subplots.AxesSubplot at 0x10d58ff90>"
      ]
     },
     "execution_count": 72,
     "metadata": {},
     "output_type": "execute_result"
    },
    {
     "data": {
      "image/png": "[encoded data removed]",
      "text/plain": [
       "<matplotlib.figure.Figure at 0x10ec5f2d0>"
      ]
     },
     "metadata": {},
     "output_type": "display_data"
    }
   ],
   "source": [
    "dfs.plot.scatter(1,2,color=dfs.mean_income, colorbar=True)"
   ]
  },
  {
   "cell_type": "code",
   "execution_count": 74,
   "metadata": {
    "collapsed": false,
    "scrolled": true
   },
   "outputs": [
    {
     "data": {
      "text/plain": [
       "<matplotlib.axes._subplots.AxesSubplot at 0x10efe9710>"
      ]
     },
     "execution_count": 74,
     "metadata": {},
     "output_type": "execute_result"
    },
    {
     "data": {
      "image/png": "[encoded data removed]",
      "text/plain": [
       "<matplotlib.figure.Figure at 0x10eff7e50>"
      ]
     },
     "metadata": {},
     "output_type": "display_data"
    }
   ],
   "source": [
    "emd.plot.scatter(1,2, color=all_data.mean_income)"
   ]
  },
  {
   "cell_type": "markdown",
   "metadata": {},
   "source": [
    "Need to investigate this embedding further. It's seems very interesting that the algorithm could find this structure. In the interest of time, now trying a TSNE 2D embedding"
   ]
  },
  {
   "cell_type": "code",
   "execution_count": 75,
   "metadata": {
    "collapsed": true
   },
   "outputs": [],
   "source": [
    "x_path = '../../local_resources/income_dataset/X_thresh10.p'\n",
    "y_path = '../../local_resources/income_dataset/y_thresh10.p'\n",
    "emd_path = '../../local_results/dimension_32_num_10_length_80_context_10.emd'"
   ]
  },
  {
   "cell_type": "code",
   "execution_count": 76,
   "metadata": {
    "collapsed": false
   },
   "outputs": [
    {
     "name": "stdout",
     "output_type": "stream",
     "text": [
      "input matrix of shape: (4625, 53199)\n",
      "output matrix of shape: (4625, 53199)\n",
      "(4625, 53199)\n"
     ]
    }
   ],
   "source": [
    "X, y = utils.read_data(x_path, y_path, threshold=10)"
   ]
  },
  {
   "cell_type": "code",
   "execution_count": 80,
   "metadata": {
    "collapsed": false
   },
   "outputs": [],
   "source": [
    "target = utils.read_target(y_path)"
   ]
  },
  {
   "cell_type": "code",
   "execution_count": 81,
   "metadata": {
    "collapsed": false
   },
   "outputs": [
    {
     "data": {
      "text/html": [
       "<div>\n",
       "<style>\n",
       "    .dataframe thead tr:only-child th {\n",
       "        text-align: right;\n",
       "    }\n",
       "\n",
       "    .dataframe thead th {\n",
       "        text-align: left;\n",
       "    }\n",
       "\n",
       "    .dataframe tbody tr th {\n",
       "        vertical-align: top;\n",
       "    }\n",
       "</style>\n",
       "<table border=\"1\" class=\"dataframe\">\n",
       "  <thead>\n",
       "    <tr style=\"text-align: right;\">\n",
       "      <th></th>\n",
       "      <th>fan_idx</th>\n",
       "      <th>mean_income</th>\n",
       "    </tr>\n",
       "    <tr>\n",
       "      <th>fan_id</th>\n",
       "      <th></th>\n",
       "      <th></th>\n",
       "    </tr>\n",
       "  </thead>\n",
       "  <tbody>\n",
       "    <tr>\n",
       "      <th>10571</th>\n",
       "      <td>0</td>\n",
       "      <td>10325</td>\n",
       "    </tr>\n",
       "    <tr>\n",
       "      <th>11758</th>\n",
       "      <td>1</td>\n",
       "      <td>34684</td>\n",
       "    </tr>\n",
       "    <tr>\n",
       "      <th>9269</th>\n",
       "      <td>2</td>\n",
       "      <td>40848</td>\n",
       "    </tr>\n",
       "    <tr>\n",
       "      <th>33493</th>\n",
       "      <td>3</td>\n",
       "      <td>42761</td>\n",
       "    </tr>\n",
       "    <tr>\n",
       "      <th>75533</th>\n",
       "      <td>4</td>\n",
       "      <td>40848</td>\n",
       "    </tr>\n",
       "  </tbody>\n",
       "</table>\n",
       "</div>"
      ],
      "text/plain": [
       "        fan_idx  mean_income\n",
       "fan_id                      \n",
       "10571         0        10325\n",
       "11758         1        34684\n",
       "9269          2        40848\n",
       "33493         3        42761\n",
       "75533         4        40848"
      ]
     },
     "execution_count": 81,
     "metadata": {},
     "output_type": "execute_result"
    }
   ],
   "source": [
    "target.head()"
   ]
  },
  {
   "cell_type": "code",
   "execution_count": 82,
   "metadata": {
    "collapsed": false
   },
   "outputs": [
    {
     "data": {
      "text/plain": [
       "array([10325, 34684, 40848, 42761, 40848, 24749, 40848, 21801, 26134,\n",
       "       32284, 38436, 22491, 28959, 26313, 70457, 40848, 32284, 40848,\n",
       "       28959, 40848])"
      ]
     },
     "execution_count": 82,
     "metadata": {},
     "output_type": "execute_result"
    }
   ],
   "source": [
    "y[0:20]"
   ]
  },
  {
   "cell_type": "code",
   "execution_count": 95,
   "metadata": {
    "collapsed": false
   },
   "outputs": [],
   "source": [
    "emd = pd.read_csv(emd_path, header=None, index_col=0, skiprows=1, sep=\",\")"
   ]
  },
  {
   "cell_type": "code",
   "execution_count": 96,
   "metadata": {
    "collapsed": false
   },
   "outputs": [
    {
     "data": {
      "text/html": [
       "<div>\n",
       "<style>\n",
       "    .dataframe thead tr:only-child th {\n",
       "        text-align: right;\n",
       "    }\n",
       "\n",
       "    .dataframe thead th {\n",
       "        text-align: left;\n",
       "    }\n",
       "\n",
       "    .dataframe tbody tr th {\n",
       "        vertical-align: top;\n",
       "    }\n",
       "</style>\n",
       "<table border=\"1\" class=\"dataframe\">\n",
       "  <thead>\n",
       "    <tr style=\"text-align: right;\">\n",
       "      <th></th>\n",
       "      <th>1</th>\n",
       "      <th>2</th>\n",
       "      <th>3</th>\n",
       "      <th>4</th>\n",
       "      <th>5</th>\n",
       "      <th>6</th>\n",
       "      <th>7</th>\n",
       "      <th>8</th>\n",
       "      <th>9</th>\n",
       "      <th>10</th>\n",
       "      <th>...</th>\n",
       "      <th>23</th>\n",
       "      <th>24</th>\n",
       "      <th>25</th>\n",
       "      <th>26</th>\n",
       "      <th>27</th>\n",
       "      <th>28</th>\n",
       "      <th>29</th>\n",
       "      <th>30</th>\n",
       "      <th>31</th>\n",
       "      <th>32</th>\n",
       "    </tr>\n",
       "    <tr>\n",
       "      <th>0</th>\n",
       "      <th></th>\n",
       "      <th></th>\n",
       "      <th></th>\n",
       "      <th></th>\n",
       "      <th></th>\n",
       "      <th></th>\n",
       "      <th></th>\n",
       "      <th></th>\n",
       "      <th></th>\n",
       "      <th></th>\n",
       "      <th></th>\n",
       "      <th></th>\n",
       "      <th></th>\n",
       "      <th></th>\n",
       "      <th></th>\n",
       "      <th></th>\n",
       "      <th></th>\n",
       "      <th></th>\n",
       "      <th></th>\n",
       "      <th></th>\n",
       "      <th></th>\n",
       "    </tr>\n",
       "  </thead>\n",
       "  <tbody>\n",
       "    <tr>\n",
       "      <th>10571</th>\n",
       "      <td>-0.271411</td>\n",
       "      <td>0.213040</td>\n",
       "      <td>0.119017</td>\n",
       "      <td>-0.663998</td>\n",
       "      <td>-0.660041</td>\n",
       "      <td>0.272358</td>\n",
       "      <td>0.217451</td>\n",
       "      <td>0.280781</td>\n",
       "      <td>0.154406</td>\n",
       "      <td>-0.545714</td>\n",
       "      <td>...</td>\n",
       "      <td>0.186014</td>\n",
       "      <td>-0.032899</td>\n",
       "      <td>-1.683122</td>\n",
       "      <td>0.381579</td>\n",
       "      <td>0.067497</td>\n",
       "      <td>-0.492434</td>\n",
       "      <td>-0.041024</td>\n",
       "      <td>-0.484226</td>\n",
       "      <td>-0.123622</td>\n",
       "      <td>-0.581950</td>\n",
       "    </tr>\n",
       "    <tr>\n",
       "      <th>11758</th>\n",
       "      <td>-0.253074</td>\n",
       "      <td>0.254557</td>\n",
       "      <td>0.864179</td>\n",
       "      <td>-0.448978</td>\n",
       "      <td>-0.107984</td>\n",
       "      <td>0.272475</td>\n",
       "      <td>-0.065715</td>\n",
       "      <td>0.425952</td>\n",
       "      <td>0.356216</td>\n",
       "      <td>0.179794</td>\n",
       "      <td>...</td>\n",
       "      <td>-0.321879</td>\n",
       "      <td>0.614259</td>\n",
       "      <td>-1.206438</td>\n",
       "      <td>-0.243221</td>\n",
       "      <td>-0.676679</td>\n",
       "      <td>-0.210828</td>\n",
       "      <td>0.384898</td>\n",
       "      <td>-0.686790</td>\n",
       "      <td>0.029010</td>\n",
       "      <td>-0.486680</td>\n",
       "    </tr>\n",
       "    <tr>\n",
       "      <th>9269</th>\n",
       "      <td>-0.079952</td>\n",
       "      <td>0.076985</td>\n",
       "      <td>0.025169</td>\n",
       "      <td>-0.052248</td>\n",
       "      <td>-0.605788</td>\n",
       "      <td>-0.118302</td>\n",
       "      <td>0.119596</td>\n",
       "      <td>0.647099</td>\n",
       "      <td>-0.173284</td>\n",
       "      <td>-0.664612</td>\n",
       "      <td>...</td>\n",
       "      <td>-0.054889</td>\n",
       "      <td>0.303328</td>\n",
       "      <td>-1.548491</td>\n",
       "      <td>-0.008547</td>\n",
       "      <td>-0.105979</td>\n",
       "      <td>-0.258532</td>\n",
       "      <td>0.512926</td>\n",
       "      <td>-0.348085</td>\n",
       "      <td>-0.198920</td>\n",
       "      <td>-0.354234</td>\n",
       "    </tr>\n",
       "    <tr>\n",
       "      <th>33493</th>\n",
       "      <td>-0.431454</td>\n",
       "      <td>0.159667</td>\n",
       "      <td>0.108922</td>\n",
       "      <td>0.399808</td>\n",
       "      <td>-0.088937</td>\n",
       "      <td>-0.203425</td>\n",
       "      <td>0.148994</td>\n",
       "      <td>0.268278</td>\n",
       "      <td>-0.432479</td>\n",
       "      <td>-0.488529</td>\n",
       "      <td>...</td>\n",
       "      <td>-0.136723</td>\n",
       "      <td>0.945122</td>\n",
       "      <td>-1.285575</td>\n",
       "      <td>-0.226934</td>\n",
       "      <td>-0.075017</td>\n",
       "      <td>-0.457938</td>\n",
       "      <td>0.192171</td>\n",
       "      <td>-0.355422</td>\n",
       "      <td>0.026222</td>\n",
       "      <td>0.209970</td>\n",
       "    </tr>\n",
       "    <tr>\n",
       "      <th>75533</th>\n",
       "      <td>-0.054204</td>\n",
       "      <td>-0.119410</td>\n",
       "      <td>0.320785</td>\n",
       "      <td>-0.126623</td>\n",
       "      <td>-0.235137</td>\n",
       "      <td>-0.402527</td>\n",
       "      <td>-0.102279</td>\n",
       "      <td>0.491862</td>\n",
       "      <td>-0.007809</td>\n",
       "      <td>-0.308770</td>\n",
       "      <td>...</td>\n",
       "      <td>-0.049251</td>\n",
       "      <td>0.622104</td>\n",
       "      <td>-1.249862</td>\n",
       "      <td>0.259479</td>\n",
       "      <td>0.085422</td>\n",
       "      <td>-0.236152</td>\n",
       "      <td>0.382696</td>\n",
       "      <td>-0.365388</td>\n",
       "      <td>-0.236112</td>\n",
       "      <td>0.287942</td>\n",
       "    </tr>\n",
       "  </tbody>\n",
       "</table>\n",
       "<p>5 rows × 32 columns</p>\n",
       "</div>"
      ],
      "text/plain": [
       "             1         2         3         4         5         6         7   \\\n",
       "0                                                                             \n",
       "10571 -0.271411  0.213040  0.119017 -0.663998 -0.660041  0.272358  0.217451   \n",
       "11758 -0.253074  0.254557  0.864179 -0.448978 -0.107984  0.272475 -0.065715   \n",
       "9269  -0.079952  0.076985  0.025169 -0.052248 -0.605788 -0.118302  0.119596   \n",
       "33493 -0.431454  0.159667  0.108922  0.399808 -0.088937 -0.203425  0.148994   \n",
       "75533 -0.054204 -0.119410  0.320785 -0.126623 -0.235137 -0.402527 -0.102279   \n",
       "\n",
       "             8         9         10    ...           23        24        25  \\\n",
       "0                                      ...                                    \n",
       "10571  0.280781  0.154406 -0.545714    ...     0.186014 -0.032899 -1.683122   \n",
       "11758  0.425952  0.356216  0.179794    ...    -0.321879  0.614259 -1.206438   \n",
       "9269   0.647099 -0.173284 -0.664612    ...    -0.054889  0.303328 -1.548491   \n",
       "33493  0.268278 -0.432479 -0.488529    ...    -0.136723  0.945122 -1.285575   \n",
       "75533  0.491862 -0.007809 -0.308770    ...    -0.049251  0.622104 -1.249862   \n",
       "\n",
       "             26        27        28        29        30        31        32  \n",
       "0                                                                            \n",
       "10571  0.381579  0.067497 -0.492434 -0.041024 -0.484226 -0.123622 -0.581950  \n",
       "11758 -0.243221 -0.676679 -0.210828  0.384898 -0.686790  0.029010 -0.486680  \n",
       "9269  -0.008547 -0.105979 -0.258532  0.512926 -0.348085 -0.198920 -0.354234  \n",
       "33493 -0.226934 -0.075017 -0.457938  0.192171 -0.355422  0.026222  0.209970  \n",
       "75533  0.259479  0.085422 -0.236152  0.382696 -0.365388 -0.236112  0.287942  \n",
       "\n",
       "[5 rows x 32 columns]"
      ]
     },
     "execution_count": 96,
     "metadata": {},
     "output_type": "execute_result"
    }
   ],
   "source": [
    "emd.head()"
   ]
  },
  {
   "cell_type": "code",
   "execution_count": null,
   "metadata": {
    "collapsed": true
   },
   "outputs": [],
   "source": []
  },
  {
   "cell_type": "code",
   "execution_count": 92,
   "metadata": {
    "collapsed": true
   },
   "outputs": [],
   "source": [
    "emd['label'] = target.loc[emd.index].mean_income"
   ]
  },
  {
   "cell_type": "code",
   "execution_count": 93,
   "metadata": {
    "collapsed": false,
    "scrolled": true
   },
   "outputs": [
    {
     "data": {
      "text/html": [
       "<div>\n",
       "<style>\n",
       "    .dataframe thead tr:only-child th {\n",
       "        text-align: right;\n",
       "    }\n",
       "\n",
       "    .dataframe thead th {\n",
       "        text-align: left;\n",
       "    }\n",
       "\n",
       "    .dataframe tbody tr th {\n",
       "        vertical-align: top;\n",
       "    }\n",
       "</style>\n",
       "<table border=\"1\" class=\"dataframe\">\n",
       "  <thead>\n",
       "    <tr style=\"text-align: right;\">\n",
       "      <th></th>\n",
       "      <th>1</th>\n",
       "      <th>2</th>\n",
       "      <th>3</th>\n",
       "      <th>4</th>\n",
       "      <th>5</th>\n",
       "      <th>6</th>\n",
       "      <th>7</th>\n",
       "      <th>8</th>\n",
       "      <th>9</th>\n",
       "      <th>10</th>\n",
       "      <th>...</th>\n",
       "      <th>24</th>\n",
       "      <th>25</th>\n",
       "      <th>26</th>\n",
       "      <th>27</th>\n",
       "      <th>28</th>\n",
       "      <th>29</th>\n",
       "      <th>30</th>\n",
       "      <th>31</th>\n",
       "      <th>32</th>\n",
       "      <th>label</th>\n",
       "    </tr>\n",
       "    <tr>\n",
       "      <th>0</th>\n",
       "      <th></th>\n",
       "      <th></th>\n",
       "      <th></th>\n",
       "      <th></th>\n",
       "      <th></th>\n",
       "      <th></th>\n",
       "      <th></th>\n",
       "      <th></th>\n",
       "      <th></th>\n",
       "      <th></th>\n",
       "      <th></th>\n",
       "      <th></th>\n",
       "      <th></th>\n",
       "      <th></th>\n",
       "      <th></th>\n",
       "      <th></th>\n",
       "      <th></th>\n",
       "      <th></th>\n",
       "      <th></th>\n",
       "      <th></th>\n",
       "      <th></th>\n",
       "    </tr>\n",
       "  </thead>\n",
       "  <tbody>\n",
       "    <tr>\n",
       "      <th>10571</th>\n",
       "      <td>-0.271411</td>\n",
       "      <td>0.213040</td>\n",
       "      <td>0.119017</td>\n",
       "      <td>-0.663998</td>\n",
       "      <td>-0.660041</td>\n",
       "      <td>0.272358</td>\n",
       "      <td>0.217451</td>\n",
       "      <td>0.280781</td>\n",
       "      <td>0.154406</td>\n",
       "      <td>-0.545714</td>\n",
       "      <td>...</td>\n",
       "      <td>-0.032899</td>\n",
       "      <td>-1.683122</td>\n",
       "      <td>0.381579</td>\n",
       "      <td>0.067497</td>\n",
       "      <td>-0.492434</td>\n",
       "      <td>-0.041024</td>\n",
       "      <td>-0.484226</td>\n",
       "      <td>-0.123622</td>\n",
       "      <td>-0.581950</td>\n",
       "      <td>10325</td>\n",
       "    </tr>\n",
       "    <tr>\n",
       "      <th>11758</th>\n",
       "      <td>-0.253074</td>\n",
       "      <td>0.254557</td>\n",
       "      <td>0.864179</td>\n",
       "      <td>-0.448978</td>\n",
       "      <td>-0.107984</td>\n",
       "      <td>0.272475</td>\n",
       "      <td>-0.065715</td>\n",
       "      <td>0.425952</td>\n",
       "      <td>0.356216</td>\n",
       "      <td>0.179794</td>\n",
       "      <td>...</td>\n",
       "      <td>0.614259</td>\n",
       "      <td>-1.206438</td>\n",
       "      <td>-0.243221</td>\n",
       "      <td>-0.676679</td>\n",
       "      <td>-0.210828</td>\n",
       "      <td>0.384898</td>\n",
       "      <td>-0.686790</td>\n",
       "      <td>0.029010</td>\n",
       "      <td>-0.486680</td>\n",
       "      <td>34684</td>\n",
       "    </tr>\n",
       "    <tr>\n",
       "      <th>9269</th>\n",
       "      <td>-0.079952</td>\n",
       "      <td>0.076985</td>\n",
       "      <td>0.025169</td>\n",
       "      <td>-0.052248</td>\n",
       "      <td>-0.605788</td>\n",
       "      <td>-0.118302</td>\n",
       "      <td>0.119596</td>\n",
       "      <td>0.647099</td>\n",
       "      <td>-0.173284</td>\n",
       "      <td>-0.664612</td>\n",
       "      <td>...</td>\n",
       "      <td>0.303328</td>\n",
       "      <td>-1.548491</td>\n",
       "      <td>-0.008547</td>\n",
       "      <td>-0.105979</td>\n",
       "      <td>-0.258532</td>\n",
       "      <td>0.512926</td>\n",
       "      <td>-0.348085</td>\n",
       "      <td>-0.198920</td>\n",
       "      <td>-0.354234</td>\n",
       "      <td>40848</td>\n",
       "    </tr>\n",
       "    <tr>\n",
       "      <th>33493</th>\n",
       "      <td>-0.431454</td>\n",
       "      <td>0.159667</td>\n",
       "      <td>0.108922</td>\n",
       "      <td>0.399808</td>\n",
       "      <td>-0.088937</td>\n",
       "      <td>-0.203425</td>\n",
       "      <td>0.148994</td>\n",
       "      <td>0.268278</td>\n",
       "      <td>-0.432479</td>\n",
       "      <td>-0.488529</td>\n",
       "      <td>...</td>\n",
       "      <td>0.945122</td>\n",
       "      <td>-1.285575</td>\n",
       "      <td>-0.226934</td>\n",
       "      <td>-0.075017</td>\n",
       "      <td>-0.457938</td>\n",
       "      <td>0.192171</td>\n",
       "      <td>-0.355422</td>\n",
       "      <td>0.026222</td>\n",
       "      <td>0.209970</td>\n",
       "      <td>42761</td>\n",
       "    </tr>\n",
       "    <tr>\n",
       "      <th>75533</th>\n",
       "      <td>-0.054204</td>\n",
       "      <td>-0.119410</td>\n",
       "      <td>0.320785</td>\n",
       "      <td>-0.126623</td>\n",
       "      <td>-0.235137</td>\n",
       "      <td>-0.402527</td>\n",
       "      <td>-0.102279</td>\n",
       "      <td>0.491862</td>\n",
       "      <td>-0.007809</td>\n",
       "      <td>-0.308770</td>\n",
       "      <td>...</td>\n",
       "      <td>0.622104</td>\n",
       "      <td>-1.249862</td>\n",
       "      <td>0.259479</td>\n",
       "      <td>0.085422</td>\n",
       "      <td>-0.236152</td>\n",
       "      <td>0.382696</td>\n",
       "      <td>-0.365388</td>\n",
       "      <td>-0.236112</td>\n",
       "      <td>0.287942</td>\n",
       "      <td>40848</td>\n",
       "    </tr>\n",
       "  </tbody>\n",
       "</table>\n",
       "<p>5 rows × 33 columns</p>\n",
       "</div>"
      ],
      "text/plain": [
       "              1         2         3         4         5         6         7  \\\n",
       "0                                                                             \n",
       "10571 -0.271411  0.213040  0.119017 -0.663998 -0.660041  0.272358  0.217451   \n",
       "11758 -0.253074  0.254557  0.864179 -0.448978 -0.107984  0.272475 -0.065715   \n",
       "9269  -0.079952  0.076985  0.025169 -0.052248 -0.605788 -0.118302  0.119596   \n",
       "33493 -0.431454  0.159667  0.108922  0.399808 -0.088937 -0.203425  0.148994   \n",
       "75533 -0.054204 -0.119410  0.320785 -0.126623 -0.235137 -0.402527 -0.102279   \n",
       "\n",
       "              8         9        10  ...          24        25        26  \\\n",
       "0                                    ...                                   \n",
       "10571  0.280781  0.154406 -0.545714  ...   -0.032899 -1.683122  0.381579   \n",
       "11758  0.425952  0.356216  0.179794  ...    0.614259 -1.206438 -0.243221   \n",
       "9269   0.647099 -0.173284 -0.664612  ...    0.303328 -1.548491 -0.008547   \n",
       "33493  0.268278 -0.432479 -0.488529  ...    0.945122 -1.285575 -0.226934   \n",
       "75533  0.491862 -0.007809 -0.308770  ...    0.622104 -1.249862  0.259479   \n",
       "\n",
       "             27        28        29        30        31        32  label  \n",
       "0                                                                         \n",
       "10571  0.067497 -0.492434 -0.041024 -0.484226 -0.123622 -0.581950  10325  \n",
       "11758 -0.676679 -0.210828  0.384898 -0.686790  0.029010 -0.486680  34684  \n",
       "9269  -0.105979 -0.258532  0.512926 -0.348085 -0.198920 -0.354234  40848  \n",
       "33493 -0.075017 -0.457938  0.192171 -0.355422  0.026222  0.209970  42761  \n",
       "75533  0.085422 -0.236152  0.382696 -0.365388 -0.236112  0.287942  40848  \n",
       "\n",
       "[5 rows x 33 columns]"
      ]
     },
     "execution_count": 93,
     "metadata": {},
     "output_type": "execute_result"
    }
   ],
   "source": [
    "emd.head()"
   ]
  },
  {
   "cell_type": "code",
   "execution_count": 94,
   "metadata": {
    "collapsed": false
   },
   "outputs": [
    {
     "data": {
      "text/plain": [
       "0"
      ]
     },
     "execution_count": 94,
     "metadata": {},
     "output_type": "execute_result"
    }
   ],
   "source": [
    "emd.label.isnull().sum()"
   ]
  },
  {
   "cell_type": "code",
   "execution_count": 108,
   "metadata": {
    "collapsed": true
   },
   "outputs": [],
   "source": [
    "tsne = pd.read_csv('../../local_results/tsne.csv')"
   ]
  },
  {
   "cell_type": "code",
   "execution_count": 109,
   "metadata": {
    "collapsed": false
   },
   "outputs": [
    {
     "data": {
      "text/html": [
       "<div>\n",
       "<style>\n",
       "    .dataframe thead tr:only-child th {\n",
       "        text-align: right;\n",
       "    }\n",
       "\n",
       "    .dataframe thead th {\n",
       "        text-align: left;\n",
       "    }\n",
       "\n",
       "    .dataframe tbody tr th {\n",
       "        vertical-align: top;\n",
       "    }\n",
       "</style>\n",
       "<table border=\"1\" class=\"dataframe\">\n",
       "  <thead>\n",
       "    <tr style=\"text-align: right;\">\n",
       "      <th></th>\n",
       "      <th>x</th>\n",
       "      <th>y</th>\n",
       "      <th>label</th>\n",
       "    </tr>\n",
       "  </thead>\n",
       "  <tbody>\n",
       "    <tr>\n",
       "      <th>0</th>\n",
       "      <td>-4.676580</td>\n",
       "      <td>4.636655</td>\n",
       "      <td>10325</td>\n",
       "    </tr>\n",
       "    <tr>\n",
       "      <th>1</th>\n",
       "      <td>-4.565182</td>\n",
       "      <td>5.473167</td>\n",
       "      <td>34684</td>\n",
       "    </tr>\n",
       "    <tr>\n",
       "      <th>2</th>\n",
       "      <td>-4.886350</td>\n",
       "      <td>4.574042</td>\n",
       "      <td>40848</td>\n",
       "    </tr>\n",
       "    <tr>\n",
       "      <th>3</th>\n",
       "      <td>-3.954677</td>\n",
       "      <td>4.290175</td>\n",
       "      <td>42761</td>\n",
       "    </tr>\n",
       "    <tr>\n",
       "      <th>4</th>\n",
       "      <td>-3.554307</td>\n",
       "      <td>4.191586</td>\n",
       "      <td>40848</td>\n",
       "    </tr>\n",
       "  </tbody>\n",
       "</table>\n",
       "</div>"
      ],
      "text/plain": [
       "          x         y  label\n",
       "0 -4.676580  4.636655  10325\n",
       "1 -4.565182  5.473167  34684\n",
       "2 -4.886350  4.574042  40848\n",
       "3 -3.954677  4.290175  42761\n",
       "4 -3.554307  4.191586  40848"
      ]
     },
     "execution_count": 109,
     "metadata": {},
     "output_type": "execute_result"
    }
   ],
   "source": [
    "tsne.head()"
   ]
  },
  {
   "cell_type": "code",
   "execution_count": 116,
   "metadata": {
    "collapsed": true
   },
   "outputs": [],
   "source": [
    "med = tsne.label.median()"
   ]
  },
  {
   "cell_type": "code",
   "execution_count": 117,
   "metadata": {
    "collapsed": false
   },
   "outputs": [
    {
     "data": {
      "text/plain": [
       "28959.0"
      ]
     },
     "execution_count": 117,
     "metadata": {},
     "output_type": "execute_result"
    }
   ],
   "source": [
    "med"
   ]
  },
  {
   "cell_type": "code",
   "execution_count": 119,
   "metadata": {
    "collapsed": false
   },
   "outputs": [],
   "source": [
    "tsne['colour'] = (tsne.label > med).astype(int)"
   ]
  },
  {
   "cell_type": "code",
   "execution_count": 120,
   "metadata": {
    "collapsed": false
   },
   "outputs": [
    {
     "data": {
      "text/html": [
       "<div>\n",
       "<style>\n",
       "    .dataframe thead tr:only-child th {\n",
       "        text-align: right;\n",
       "    }\n",
       "\n",
       "    .dataframe thead th {\n",
       "        text-align: left;\n",
       "    }\n",
       "\n",
       "    .dataframe tbody tr th {\n",
       "        vertical-align: top;\n",
       "    }\n",
       "</style>\n",
       "<table border=\"1\" class=\"dataframe\">\n",
       "  <thead>\n",
       "    <tr style=\"text-align: right;\">\n",
       "      <th></th>\n",
       "      <th>x</th>\n",
       "      <th>y</th>\n",
       "      <th>label</th>\n",
       "      <th>colour</th>\n",
       "    </tr>\n",
       "  </thead>\n",
       "  <tbody>\n",
       "    <tr>\n",
       "      <th>0</th>\n",
       "      <td>-4.676580</td>\n",
       "      <td>4.636655</td>\n",
       "      <td>10325</td>\n",
       "      <td>0</td>\n",
       "    </tr>\n",
       "    <tr>\n",
       "      <th>1</th>\n",
       "      <td>-4.565182</td>\n",
       "      <td>5.473167</td>\n",
       "      <td>34684</td>\n",
       "      <td>1</td>\n",
       "    </tr>\n",
       "    <tr>\n",
       "      <th>2</th>\n",
       "      <td>-4.886350</td>\n",
       "      <td>4.574042</td>\n",
       "      <td>40848</td>\n",
       "      <td>1</td>\n",
       "    </tr>\n",
       "    <tr>\n",
       "      <th>3</th>\n",
       "      <td>-3.954677</td>\n",
       "      <td>4.290175</td>\n",
       "      <td>42761</td>\n",
       "      <td>1</td>\n",
       "    </tr>\n",
       "    <tr>\n",
       "      <th>4</th>\n",
       "      <td>-3.554307</td>\n",
       "      <td>4.191586</td>\n",
       "      <td>40848</td>\n",
       "      <td>1</td>\n",
       "    </tr>\n",
       "  </tbody>\n",
       "</table>\n",
       "</div>"
      ],
      "text/plain": [
       "          x         y  label  colour\n",
       "0 -4.676580  4.636655  10325       0\n",
       "1 -4.565182  5.473167  34684       1\n",
       "2 -4.886350  4.574042  40848       1\n",
       "3 -3.954677  4.290175  42761       1\n",
       "4 -3.554307  4.191586  40848       1"
      ]
     },
     "execution_count": 120,
     "metadata": {},
     "output_type": "execute_result"
    }
   ],
   "source": [
    "tsne.head()"
   ]
  },
  {
   "cell_type": "code",
   "execution_count": 122,
   "metadata": {
    "collapsed": false
   },
   "outputs": [
    {
     "data": {
      "image/png": "[encoded data removed]",
      "text/plain": [
       "<matplotlib.figure.Figure at 0x10f543090>"
      ]
     },
     "metadata": {},
     "output_type": "display_data"
    }
   ],
   "source": [
    "plot = tsne.plot.scatter('x','y',color=tsne.colour, s=10)"
   ]
  },
  {
   "cell_type": "code",
   "execution_count": 124,
   "metadata": {
    "collapsed": true
   },
   "outputs": [],
   "source": [
    "fig = plot.get_figure()"
   ]
  },
  {
   "cell_type": "code",
   "execution_count": 125,
   "metadata": {
    "collapsed": false
   },
   "outputs": [],
   "source": [
    "fig.savefig('../../local_results/figures/tsne.pdf')"
   ]
  },
  {
   "cell_type": "code",
   "execution_count": null,
   "metadata": {
    "collapsed": true
   },
   "outputs": [],
   "source": [
    "fix"
   ]
  }
 ],
 "metadata": {
  "kernelspec": {
   "display_name": "Python 2",
   "language": "python",
   "name": "python2"
  },
  "language_info": {
   "codemirror_mode": {
    "name": "ipython",
    "version": 2
   },
   "file_extension": ".py",
   "mimetype": "text/x-python",
   "name": "python",
   "nbconvert_exporter": "python",
   "pygments_lexer": "ipython2",
   "version": "2.7.12"
  }
 },
 "nbformat": 4,
 "nbformat_minor": 1
}
